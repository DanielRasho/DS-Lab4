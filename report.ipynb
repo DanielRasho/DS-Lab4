{
 "cells": [
  {
   "cell_type": "markdown",
   "id": "5b137692",
   "metadata": {},
   "source": [
    "# Lab 4\n",
    "\n",
    "Daniel Alfredo Rayo Roldán\n",
    "\n",
    "Gerardo Pineda Riveiro\n",
    "\n",
    "https://github.com/DanielRasho/DS-Lab4"
   ]
  },
  {
   "cell_type": "code",
   "execution_count": 3,
   "id": "88780e78",
   "metadata": {},
   "outputs": [],
   "source": [
    "import rasterio\n",
    "import numpy as np\n",
    "import matplotlib.pyplot as plt\n",
    "from datetime import date\n",
    "import openeo"
   ]
  },
  {
   "cell_type": "code",
   "execution_count": 4,
   "id": "fd32c86d",
   "metadata": {},
   "outputs": [],
   "source": [
    "import json\n",
    "tiempo = [\"2025-01-01\", \"2025-03-31\"]\n",
    "\n",
    "lago_atitlan = {\n",
    "\"west\": -91.326256,\n",
    "\"east\": -91.07151,\n",
    "\"south\": 14.5948,\n",
    "\"north\": 14.750979\n",
    "}\n",
    "\n",
    "lago_amatitlan = {\n",
    "\"west\": -90.638065,\n",
    "\"east\": -90.512924,\n",
    "\"south\": 14.412347,\n",
    "\"north\": 14.493799\n",
    "}"
   ]
  },
  {
   "cell_type": "markdown",
   "id": "3612e0db",
   "metadata": {},
   "source": [
    "## Descarga de datos"
   ]
  },
  {
   "cell_type": "code",
   "execution_count": 5,
   "id": "779c8fdf",
   "metadata": {},
   "outputs": [
    {
     "name": "stdout",
     "output_type": "stream",
     "text": [
      "Authenticated using refresh token.\n"
     ]
    }
   ],
   "source": [
    "connection = openeo.connect(\"https://openeo.dataspace.copernicus.eu\").authenticate_oidc()"
   ]
  },
  {
   "cell_type": "code",
   "execution_count": null,
   "id": "bf5bbaf1",
   "metadata": {},
   "outputs": [],
   "source": [
    "import requests\n",
    "\n",
    "url = \"https://raw.githubusercontent.com/sentinel-hub/custom-scripts/master/sentinel-2/cyanobacteria_chla_ndci_l1c/script.js\"\n",
    "response = requests.get(url)\n",
    "\n",
    "evalscript = response.text"
   ]
  },
  {
   "cell_type": "markdown",
   "id": "bd182001",
   "metadata": {},
   "source": [
    "#### Datos de Amatitlán"
   ]
  },
  {
   "cell_type": "code",
   "execution_count": null,
   "id": "78fe1494",
   "metadata": {},
   "outputs": [],
   "source": [
    "amatitlan_graph = connection.load_collection(\n",
    "    \"SENTINEL2_L2A\",\n",
    "    spatial_extent=lago_amatitlan,\n",
    "    temporal_extent=tiempo,\n",
    ")\n",
    "\n",
    "result_graph = amatitlan_graph.save_result(\n",
    "    format=\"GTIFF\",\n",
    "    options={\"evalscript\": evalscript}\n",
    ")\n",
    "\n",
    "job = connection.create_job(result_graph)\n",
    "job.start_and_wait()\n",
    "job.download_results(\"./data/GIS/cianobacteria_amatitlan-2023.tif\")"
   ]
  },
  {
   "cell_type": "markdown",
   "id": "285a3c04",
   "metadata": {},
   "source": [
    "#### Datos Atitlán"
   ]
  },
  {
   "cell_type": "code",
   "execution_count": null,
   "id": "72f81a5c",
   "metadata": {},
   "outputs": [],
   "source": [
    "atitlan_graph = connection.load_collection(\n",
    "    \"SENTINEL2_L2A\",\n",
    "    spatial_extent=lago_atitlan,\n",
    "    temporal_extent=tiempo,\n",
    ")\n",
    "\n",
    "atitlan_result_graph = atitlan_graph.save_result(\n",
    "    format=\"GTIFF\",\n",
    "    options={\"evalscript\": evalscript}\n",
    ")\n",
    "\n",
    "job = connection.create_job(atitlan_graph)\n",
    "job.start_and_wait()\n",
    "job.download_results(\"./data/GIS/cianobacteria_atitlan.tif\")"
   ]
  },
  {
   "cell_type": "markdown",
   "id": "38a0a5f0",
   "metadata": {},
   "source": [
    "## Análisis Temporal"
   ]
  },
  {
   "cell_type": "code",
   "execution_count": 22,
   "id": "11f01e07",
   "metadata": {},
   "outputs": [],
   "source": [
    "import json\n",
    "timeRange = [\"2025-01-01\", \"2025-03-31\"]\n",
    "AmatitlanGeo = {}\n",
    "AtitlanGeo = {}\n",
    "\n",
    "# Read first file\n",
    "with open(\"./data/Lago_Amatitlan.geojson\", \"r\", encoding=\"utf-8\") as f:\n",
    "    AmatitlanGeo = json.load(f)\n",
    "\n",
    "# Read second file\n",
    "with open(\"./data/Lago_Atitlan.geojson\", \"r\", encoding=\"utf-8\") as f:\n",
    "    AtitlanGeo = json.load(f)"
   ]
  },
  {
   "cell_type": "code",
   "execution_count": 44,
   "id": "a63952ce",
   "metadata": {},
   "outputs": [
    {
     "name": "stdout",
     "output_type": "stream",
     "text": [
      "0:00:00 Job 'j-25080918004548a8b6afe1426e1079ad': send 'start'\n",
      "0:00:12 Job 'j-25080918004548a8b6afe1426e1079ad': created (progress 0%)\n",
      "0:00:18 Job 'j-25080918004548a8b6afe1426e1079ad': created (progress 0%)\n",
      "0:00:24 Job 'j-25080918004548a8b6afe1426e1079ad': running (progress N/A)\n",
      "0:00:32 Job 'j-25080918004548a8b6afe1426e1079ad': running (progress N/A)\n",
      "0:00:42 Job 'j-25080918004548a8b6afe1426e1079ad': running (progress N/A)\n",
      "0:00:55 Job 'j-25080918004548a8b6afe1426e1079ad': running (progress N/A)\n",
      "0:01:10 Job 'j-25080918004548a8b6afe1426e1079ad': running (progress N/A)\n",
      "0:01:30 Job 'j-25080918004548a8b6afe1426e1079ad': running (progress N/A)\n",
      "0:01:54 Job 'j-25080918004548a8b6afe1426e1079ad': running (progress N/A)\n",
      "0:02:24 Job 'j-25080918004548a8b6afe1426e1079ad': running (progress N/A)\n",
      "0:03:01 Job 'j-25080918004548a8b6afe1426e1079ad': running (progress N/A)\n",
      "0:03:48 Job 'j-25080918004548a8b6afe1426e1079ad': running (progress N/A)\n",
      "0:04:47 Job 'j-25080918004548a8b6afe1426e1079ad': running (progress N/A)\n",
      "0:05:47 Job 'j-25080918004548a8b6afe1426e1079ad': running (progress N/A)\n"
     ]
    },
    {
     "ename": "KeyboardInterrupt",
     "evalue": "",
     "output_type": "error",
     "traceback": [
      "\u001b[31m---------------------------------------------------------------------------\u001b[39m",
      "\u001b[31mKeyboardInterrupt\u001b[39m                         Traceback (most recent call last)",
      "\u001b[36mCell\u001b[39m\u001b[36m \u001b[39m\u001b[32mIn[44]\u001b[39m\u001b[32m, line 13\u001b[39m\n\u001b[32m     11\u001b[39m result = amatitlan_tc.save_result(\u001b[38;5;28mformat\u001b[39m=\u001b[33m\"\u001b[39m\u001b[33mgtiff\u001b[39m\u001b[33m\"\u001b[39m)\n\u001b[32m     12\u001b[39m job = result.create_job()\n\u001b[32m---> \u001b[39m\u001b[32m13\u001b[39m \u001b[43mjob\u001b[49m\u001b[43m.\u001b[49m\u001b[43mstart_and_wait\u001b[49m\u001b[43m(\u001b[49m\u001b[43m)\u001b[49m\n\u001b[32m     14\u001b[39m job.get_results().download_files(output_dir)\n",
      "\u001b[36mFile \u001b[39m\u001b[32m~/Documents/DataScience/lab4/.venv/lib/python3.13/site-packages/openeo/rest/job.py:371\u001b[39m, in \u001b[36mBatchJob.start_and_wait\u001b[39m\u001b[34m(self, print, max_poll_interval, connection_retry_interval, soft_error_max, show_error_logs, require_success)\u001b[39m\n\u001b[32m    368\u001b[39m         \u001b[38;5;28;01mbreak\u001b[39;00m\n\u001b[32m    370\u001b[39m     \u001b[38;5;66;03m# Sleep for next poll (and adaptively make polling less frequent)\u001b[39;00m\n\u001b[32m--> \u001b[39m\u001b[32m371\u001b[39m     \u001b[43mtime\u001b[49m\u001b[43m.\u001b[49m\u001b[43msleep\u001b[49m\u001b[43m(\u001b[49m\u001b[43mpoll_interval\u001b[49m\u001b[43m)\u001b[49m\n\u001b[32m    372\u001b[39m     poll_interval = \u001b[38;5;28mmin\u001b[39m(\u001b[32m1.25\u001b[39m * poll_interval, max_poll_interval)\n\u001b[32m    374\u001b[39m \u001b[38;5;28;01mif\u001b[39;00m require_success \u001b[38;5;129;01mand\u001b[39;00m status != \u001b[33m\"\u001b[39m\u001b[33mfinished\u001b[39m\u001b[33m\"\u001b[39m:\n\u001b[32m    375\u001b[39m     \u001b[38;5;66;03m# TODO: render logs jupyter-aware in a notebook context?\u001b[39;00m\n",
      "\u001b[31mKeyboardInterrupt\u001b[39m: "
     ]
    }
   ],
   "source": [
    "amatitlan_tc = connection.load_collection(\n",
    "    \"SENTINEL2_L2A\",\n",
    "    spatial_extent=AmatitlanGeo,\n",
    "    temporal_extent=timeRange,\n",
    ")\n",
    "\n",
    "# For example, export to local GeoTIFF files, one per timestamp\n",
    "output_dir = \"./data/Amatitlan/\"\n",
    "\n",
    "# Save result as collection of GeoTIFF files\n",
    "result = amatitlan_tc.save_result(format=\"gtiff\")\n",
    "job = result.create_job()\n",
    "job.start_and_wait()\n",
    "job.get_results().download_files(output_dir)"
   ]
  },
  {
   "cell_type": "code",
   "execution_count": 45,
   "id": "d503e91e",
   "metadata": {},
   "outputs": [
    {
     "name": "stdout",
     "output_type": "stream",
     "text": [
      "0:00:00 Job 'j-2508091807374458b5b5f12f2a0217f4': send 'start'\n",
      "0:00:13 Job 'j-2508091807374458b5b5f12f2a0217f4': created (progress 0%)\n",
      "0:00:19 Job 'j-2508091807374458b5b5f12f2a0217f4': created (progress 0%)\n"
     ]
    },
    {
     "ename": "KeyboardInterrupt",
     "evalue": "",
     "output_type": "error",
     "traceback": [
      "\u001b[31m---------------------------------------------------------------------------\u001b[39m",
      "\u001b[31mKeyboardInterrupt\u001b[39m                         Traceback (most recent call last)",
      "\u001b[36mCell\u001b[39m\u001b[36m \u001b[39m\u001b[32mIn[45]\u001b[39m\u001b[32m, line 13\u001b[39m\n\u001b[32m     11\u001b[39m result = atitlan_tc.save_result(\u001b[38;5;28mformat\u001b[39m=\u001b[33m\"\u001b[39m\u001b[33mgtiff\u001b[39m\u001b[33m\"\u001b[39m)\n\u001b[32m     12\u001b[39m job = result.create_job()\n\u001b[32m---> \u001b[39m\u001b[32m13\u001b[39m \u001b[43mjob\u001b[49m\u001b[43m.\u001b[49m\u001b[43mstart_and_wait\u001b[49m\u001b[43m(\u001b[49m\u001b[43m)\u001b[49m\n\u001b[32m     14\u001b[39m job.get_results().download_files(output_dir)\n",
      "\u001b[36mFile \u001b[39m\u001b[32m~/Documents/DataScience/lab4/.venv/lib/python3.13/site-packages/openeo/rest/job.py:371\u001b[39m, in \u001b[36mBatchJob.start_and_wait\u001b[39m\u001b[34m(self, print, max_poll_interval, connection_retry_interval, soft_error_max, show_error_logs, require_success)\u001b[39m\n\u001b[32m    368\u001b[39m         \u001b[38;5;28;01mbreak\u001b[39;00m\n\u001b[32m    370\u001b[39m     \u001b[38;5;66;03m# Sleep for next poll (and adaptively make polling less frequent)\u001b[39;00m\n\u001b[32m--> \u001b[39m\u001b[32m371\u001b[39m     \u001b[43mtime\u001b[49m\u001b[43m.\u001b[49m\u001b[43msleep\u001b[49m\u001b[43m(\u001b[49m\u001b[43mpoll_interval\u001b[49m\u001b[43m)\u001b[49m\n\u001b[32m    372\u001b[39m     poll_interval = \u001b[38;5;28mmin\u001b[39m(\u001b[32m1.25\u001b[39m * poll_interval, max_poll_interval)\n\u001b[32m    374\u001b[39m \u001b[38;5;28;01mif\u001b[39;00m require_success \u001b[38;5;129;01mand\u001b[39;00m status != \u001b[33m\"\u001b[39m\u001b[33mfinished\u001b[39m\u001b[33m\"\u001b[39m:\n\u001b[32m    375\u001b[39m     \u001b[38;5;66;03m# TODO: render logs jupyter-aware in a notebook context?\u001b[39;00m\n",
      "\u001b[31mKeyboardInterrupt\u001b[39m: "
     ]
    }
   ],
   "source": [
    "atitlan_tc = connection.load_collection(\n",
    "    \"SENTINEL2_L2A\",\n",
    "    spatial_extent=AtitlanGeo,\n",
    "    temporal_extent=timeRange,\n",
    ")\n",
    "\n",
    "# For example, export to local GeoTIFF files, one per timestamp\n",
    "output_dir = \"./data/Atitlan/\"\n",
    "\n",
    "# Save result as collection of GeoTIFF files\n",
    "result = atitlan_tc.save_result(format=\"gtiff\")\n",
    "job = result.create_job()\n",
    "job.start_and_wait()\n",
    "job.get_results().download_files(output_dir)"
   ]
  },
  {
   "cell_type": "code",
   "execution_count": 53,
   "id": "08e61962",
   "metadata": {},
   "outputs": [
    {
     "name": "stdout",
     "output_type": "stream",
     "text": [
      "j-2508091807374458b5b5f12f2a0217f4   finished\n",
      "j-25080918004548a8b6afe1426e1079ad   finished\n"
     ]
    }
   ],
   "source": [
    "a = connection.list_jobs()\n",
    "\n",
    "for b in a:\n",
    "    print(f'{b[\"id\"]}   {b[\"status\"]}')"
   ]
  },
  {
   "cell_type": "code",
   "execution_count": 54,
   "id": "ffa2cdff",
   "metadata": {},
   "outputs": [
    {
     "ename": "ConnectionError",
     "evalue": "HTTPSConnectionPool(host='openeo.dataspace.copernicus.eu', port=443): Read timed out.",
     "output_type": "error",
     "traceback": [
      "\u001b[31m---------------------------------------------------------------------------\u001b[39m",
      "\u001b[31mTimeoutError\u001b[39m                              Traceback (most recent call last)",
      "\u001b[36mFile \u001b[39m\u001b[32m~/Documents/DataScience/lab4/.venv/lib/python3.13/site-packages/urllib3/response.py:779\u001b[39m, in \u001b[36mHTTPResponse._error_catcher\u001b[39m\u001b[34m(self)\u001b[39m\n\u001b[32m    778\u001b[39m \u001b[38;5;28;01mtry\u001b[39;00m:\n\u001b[32m--> \u001b[39m\u001b[32m779\u001b[39m     \u001b[38;5;28;01myield\u001b[39;00m\n\u001b[32m    781\u001b[39m \u001b[38;5;28;01mexcept\u001b[39;00m SocketTimeout \u001b[38;5;28;01mas\u001b[39;00m e:\n\u001b[32m    782\u001b[39m     \u001b[38;5;66;03m# FIXME: Ideally we'd like to include the url in the ReadTimeoutError but\u001b[39;00m\n\u001b[32m    783\u001b[39m     \u001b[38;5;66;03m# there is yet no clean way to get at it from this context.\u001b[39;00m\n",
      "\u001b[36mFile \u001b[39m\u001b[32m~/Documents/DataScience/lab4/.venv/lib/python3.13/site-packages/urllib3/response.py:904\u001b[39m, in \u001b[36mHTTPResponse._raw_read\u001b[39m\u001b[34m(self, amt, read1)\u001b[39m\n\u001b[32m    903\u001b[39m \u001b[38;5;28;01mwith\u001b[39;00m \u001b[38;5;28mself\u001b[39m._error_catcher():\n\u001b[32m--> \u001b[39m\u001b[32m904\u001b[39m     data = \u001b[38;5;28;43mself\u001b[39;49m\u001b[43m.\u001b[49m\u001b[43m_fp_read\u001b[49m\u001b[43m(\u001b[49m\u001b[43mamt\u001b[49m\u001b[43m,\u001b[49m\u001b[43m \u001b[49m\u001b[43mread1\u001b[49m\u001b[43m=\u001b[49m\u001b[43mread1\u001b[49m\u001b[43m)\u001b[49m \u001b[38;5;28;01mif\u001b[39;00m \u001b[38;5;129;01mnot\u001b[39;00m fp_closed \u001b[38;5;28;01melse\u001b[39;00m \u001b[33mb\u001b[39m\u001b[33m\"\u001b[39m\u001b[33m\"\u001b[39m\n\u001b[32m    905\u001b[39m     \u001b[38;5;28;01mif\u001b[39;00m amt \u001b[38;5;129;01mis\u001b[39;00m \u001b[38;5;129;01mnot\u001b[39;00m \u001b[38;5;28;01mNone\u001b[39;00m \u001b[38;5;129;01mand\u001b[39;00m amt != \u001b[32m0\u001b[39m \u001b[38;5;129;01mand\u001b[39;00m \u001b[38;5;129;01mnot\u001b[39;00m data:\n\u001b[32m    906\u001b[39m         \u001b[38;5;66;03m# Platform-specific: Buggy versions of Python.\u001b[39;00m\n\u001b[32m    907\u001b[39m         \u001b[38;5;66;03m# Close the connection when no data is returned\u001b[39;00m\n\u001b[32m   (...)\u001b[39m\u001b[32m    912\u001b[39m         \u001b[38;5;66;03m# not properly close the connection in all cases. There is\u001b[39;00m\n\u001b[32m    913\u001b[39m         \u001b[38;5;66;03m# no harm in redundantly calling close.\u001b[39;00m\n",
      "\u001b[36mFile \u001b[39m\u001b[32m~/Documents/DataScience/lab4/.venv/lib/python3.13/site-packages/urllib3/response.py:887\u001b[39m, in \u001b[36mHTTPResponse._fp_read\u001b[39m\u001b[34m(self, amt, read1)\u001b[39m\n\u001b[32m    885\u001b[39m \u001b[38;5;28;01melse\u001b[39;00m:\n\u001b[32m    886\u001b[39m     \u001b[38;5;66;03m# StringIO doesn't like amt=None\u001b[39;00m\n\u001b[32m--> \u001b[39m\u001b[32m887\u001b[39m     \u001b[38;5;28;01mreturn\u001b[39;00m \u001b[38;5;28;43mself\u001b[39;49m\u001b[43m.\u001b[49m\u001b[43m_fp\u001b[49m\u001b[43m.\u001b[49m\u001b[43mread\u001b[49m\u001b[43m(\u001b[49m\u001b[43mamt\u001b[49m\u001b[43m)\u001b[49m \u001b[38;5;28;01mif\u001b[39;00m amt \u001b[38;5;129;01mis\u001b[39;00m \u001b[38;5;129;01mnot\u001b[39;00m \u001b[38;5;28;01mNone\u001b[39;00m \u001b[38;5;28;01melse\u001b[39;00m \u001b[38;5;28mself\u001b[39m._fp.read()\n",
      "\u001b[36mFile \u001b[39m\u001b[32m/usr/lib/python3.13/http/client.py:479\u001b[39m, in \u001b[36mHTTPResponse.read\u001b[39m\u001b[34m(self, amt)\u001b[39m\n\u001b[32m    478\u001b[39m     amt = \u001b[38;5;28mself\u001b[39m.length\n\u001b[32m--> \u001b[39m\u001b[32m479\u001b[39m s = \u001b[38;5;28;43mself\u001b[39;49m\u001b[43m.\u001b[49m\u001b[43mfp\u001b[49m\u001b[43m.\u001b[49m\u001b[43mread\u001b[49m\u001b[43m(\u001b[49m\u001b[43mamt\u001b[49m\u001b[43m)\u001b[49m\n\u001b[32m    480\u001b[39m \u001b[38;5;28;01mif\u001b[39;00m \u001b[38;5;129;01mnot\u001b[39;00m s \u001b[38;5;129;01mand\u001b[39;00m amt:\n\u001b[32m    481\u001b[39m     \u001b[38;5;66;03m# Ideally, we would raise IncompleteRead if the content-length\u001b[39;00m\n\u001b[32m    482\u001b[39m     \u001b[38;5;66;03m# wasn't satisfied, but it might break compatibility.\u001b[39;00m\n",
      "\u001b[36mFile \u001b[39m\u001b[32m/usr/lib/python3.13/socket.py:719\u001b[39m, in \u001b[36mSocketIO.readinto\u001b[39m\u001b[34m(self, b)\u001b[39m\n\u001b[32m    718\u001b[39m \u001b[38;5;28;01mtry\u001b[39;00m:\n\u001b[32m--> \u001b[39m\u001b[32m719\u001b[39m     \u001b[38;5;28;01mreturn\u001b[39;00m \u001b[38;5;28;43mself\u001b[39;49m\u001b[43m.\u001b[49m\u001b[43m_sock\u001b[49m\u001b[43m.\u001b[49m\u001b[43mrecv_into\u001b[49m\u001b[43m(\u001b[49m\u001b[43mb\u001b[49m\u001b[43m)\u001b[49m\n\u001b[32m    720\u001b[39m \u001b[38;5;28;01mexcept\u001b[39;00m timeout:\n",
      "\u001b[36mFile \u001b[39m\u001b[32m/usr/lib/python3.13/ssl.py:1304\u001b[39m, in \u001b[36mSSLSocket.recv_into\u001b[39m\u001b[34m(self, buffer, nbytes, flags)\u001b[39m\n\u001b[32m   1301\u001b[39m         \u001b[38;5;28;01mraise\u001b[39;00m \u001b[38;5;167;01mValueError\u001b[39;00m(\n\u001b[32m   1302\u001b[39m           \u001b[33m\"\u001b[39m\u001b[33mnon-zero flags not allowed in calls to recv_into() on \u001b[39m\u001b[38;5;132;01m%s\u001b[39;00m\u001b[33m\"\u001b[39m %\n\u001b[32m   1303\u001b[39m           \u001b[38;5;28mself\u001b[39m.\u001b[34m__class__\u001b[39m)\n\u001b[32m-> \u001b[39m\u001b[32m1304\u001b[39m     \u001b[38;5;28;01mreturn\u001b[39;00m \u001b[38;5;28;43mself\u001b[39;49m\u001b[43m.\u001b[49m\u001b[43mread\u001b[49m\u001b[43m(\u001b[49m\u001b[43mnbytes\u001b[49m\u001b[43m,\u001b[49m\u001b[43m \u001b[49m\u001b[43mbuffer\u001b[49m\u001b[43m)\u001b[49m\n\u001b[32m   1305\u001b[39m \u001b[38;5;28;01melse\u001b[39;00m:\n",
      "\u001b[36mFile \u001b[39m\u001b[32m/usr/lib/python3.13/ssl.py:1138\u001b[39m, in \u001b[36mSSLSocket.read\u001b[39m\u001b[34m(self, len, buffer)\u001b[39m\n\u001b[32m   1137\u001b[39m \u001b[38;5;28;01mif\u001b[39;00m buffer \u001b[38;5;129;01mis\u001b[39;00m \u001b[38;5;129;01mnot\u001b[39;00m \u001b[38;5;28;01mNone\u001b[39;00m:\n\u001b[32m-> \u001b[39m\u001b[32m1138\u001b[39m     \u001b[38;5;28;01mreturn\u001b[39;00m \u001b[38;5;28;43mself\u001b[39;49m\u001b[43m.\u001b[49m\u001b[43m_sslobj\u001b[49m\u001b[43m.\u001b[49m\u001b[43mread\u001b[49m\u001b[43m(\u001b[49m\u001b[38;5;28;43mlen\u001b[39;49m\u001b[43m,\u001b[49m\u001b[43m \u001b[49m\u001b[43mbuffer\u001b[49m\u001b[43m)\u001b[49m\n\u001b[32m   1139\u001b[39m \u001b[38;5;28;01melse\u001b[39;00m:\n",
      "\u001b[31mTimeoutError\u001b[39m: The read operation timed out",
      "\nThe above exception was the direct cause of the following exception:\n",
      "\u001b[31mReadTimeoutError\u001b[39m                          Traceback (most recent call last)",
      "\u001b[36mFile \u001b[39m\u001b[32m~/Documents/DataScience/lab4/.venv/lib/python3.13/site-packages/requests/models.py:820\u001b[39m, in \u001b[36mResponse.iter_content.<locals>.generate\u001b[39m\u001b[34m()\u001b[39m\n\u001b[32m    819\u001b[39m \u001b[38;5;28;01mtry\u001b[39;00m:\n\u001b[32m--> \u001b[39m\u001b[32m820\u001b[39m     \u001b[38;5;28;01myield from\u001b[39;00m \u001b[38;5;28mself\u001b[39m.raw.stream(chunk_size, decode_content=\u001b[38;5;28;01mTrue\u001b[39;00m)\n\u001b[32m    821\u001b[39m \u001b[38;5;28;01mexcept\u001b[39;00m ProtocolError \u001b[38;5;28;01mas\u001b[39;00m e:\n",
      "\u001b[36mFile \u001b[39m\u001b[32m~/Documents/DataScience/lab4/.venv/lib/python3.13/site-packages/urllib3/response.py:1091\u001b[39m, in \u001b[36mHTTPResponse.stream\u001b[39m\u001b[34m(self, amt, decode_content)\u001b[39m\n\u001b[32m   1090\u001b[39m \u001b[38;5;28;01mwhile\u001b[39;00m \u001b[38;5;129;01mnot\u001b[39;00m is_fp_closed(\u001b[38;5;28mself\u001b[39m._fp) \u001b[38;5;129;01mor\u001b[39;00m \u001b[38;5;28mlen\u001b[39m(\u001b[38;5;28mself\u001b[39m._decoded_buffer) > \u001b[32m0\u001b[39m:\n\u001b[32m-> \u001b[39m\u001b[32m1091\u001b[39m     data = \u001b[38;5;28;43mself\u001b[39;49m\u001b[43m.\u001b[49m\u001b[43mread\u001b[49m\u001b[43m(\u001b[49m\u001b[43mamt\u001b[49m\u001b[43m=\u001b[49m\u001b[43mamt\u001b[49m\u001b[43m,\u001b[49m\u001b[43m \u001b[49m\u001b[43mdecode_content\u001b[49m\u001b[43m=\u001b[49m\u001b[43mdecode_content\u001b[49m\u001b[43m)\u001b[49m\n\u001b[32m   1093\u001b[39m     \u001b[38;5;28;01mif\u001b[39;00m data:\n",
      "\u001b[36mFile \u001b[39m\u001b[32m~/Documents/DataScience/lab4/.venv/lib/python3.13/site-packages/urllib3/response.py:980\u001b[39m, in \u001b[36mHTTPResponse.read\u001b[39m\u001b[34m(self, amt, decode_content, cache_content)\u001b[39m\n\u001b[32m    978\u001b[39m         \u001b[38;5;28;01mreturn\u001b[39;00m \u001b[38;5;28mself\u001b[39m._decoded_buffer.get(amt)\n\u001b[32m--> \u001b[39m\u001b[32m980\u001b[39m data = \u001b[38;5;28;43mself\u001b[39;49m\u001b[43m.\u001b[49m\u001b[43m_raw_read\u001b[49m\u001b[43m(\u001b[49m\u001b[43mamt\u001b[49m\u001b[43m)\u001b[49m\n\u001b[32m    982\u001b[39m flush_decoder = amt \u001b[38;5;129;01mis\u001b[39;00m \u001b[38;5;28;01mNone\u001b[39;00m \u001b[38;5;129;01mor\u001b[39;00m (amt != \u001b[32m0\u001b[39m \u001b[38;5;129;01mand\u001b[39;00m \u001b[38;5;129;01mnot\u001b[39;00m data)\n",
      "\u001b[36mFile \u001b[39m\u001b[32m~/Documents/DataScience/lab4/.venv/lib/python3.13/site-packages/urllib3/response.py:903\u001b[39m, in \u001b[36mHTTPResponse._raw_read\u001b[39m\u001b[34m(self, amt, read1)\u001b[39m\n\u001b[32m    901\u001b[39m fp_closed = \u001b[38;5;28mgetattr\u001b[39m(\u001b[38;5;28mself\u001b[39m._fp, \u001b[33m\"\u001b[39m\u001b[33mclosed\u001b[39m\u001b[33m\"\u001b[39m, \u001b[38;5;28;01mFalse\u001b[39;00m)\n\u001b[32m--> \u001b[39m\u001b[32m903\u001b[39m \u001b[38;5;28;01mwith\u001b[39;00m \u001b[38;5;28mself\u001b[39m._error_catcher():\n\u001b[32m    904\u001b[39m     data = \u001b[38;5;28mself\u001b[39m._fp_read(amt, read1=read1) \u001b[38;5;28;01mif\u001b[39;00m \u001b[38;5;129;01mnot\u001b[39;00m fp_closed \u001b[38;5;28;01melse\u001b[39;00m \u001b[33mb\u001b[39m\u001b[33m\"\u001b[39m\u001b[33m\"\u001b[39m\n",
      "\u001b[36mFile \u001b[39m\u001b[32m/usr/lib/python3.13/contextlib.py:162\u001b[39m, in \u001b[36m_GeneratorContextManager.__exit__\u001b[39m\u001b[34m(self, typ, value, traceback)\u001b[39m\n\u001b[32m    161\u001b[39m \u001b[38;5;28;01mtry\u001b[39;00m:\n\u001b[32m--> \u001b[39m\u001b[32m162\u001b[39m     \u001b[38;5;28;43mself\u001b[39;49m\u001b[43m.\u001b[49m\u001b[43mgen\u001b[49m\u001b[43m.\u001b[49m\u001b[43mthrow\u001b[49m\u001b[43m(\u001b[49m\u001b[43mvalue\u001b[49m\u001b[43m)\u001b[49m\n\u001b[32m    163\u001b[39m \u001b[38;5;28;01mexcept\u001b[39;00m \u001b[38;5;167;01mStopIteration\u001b[39;00m \u001b[38;5;28;01mas\u001b[39;00m exc:\n\u001b[32m    164\u001b[39m     \u001b[38;5;66;03m# Suppress StopIteration *unless* it's the same exception that\u001b[39;00m\n\u001b[32m    165\u001b[39m     \u001b[38;5;66;03m# was passed to throw().  This prevents a StopIteration\u001b[39;00m\n\u001b[32m    166\u001b[39m     \u001b[38;5;66;03m# raised inside the \"with\" statement from being suppressed.\u001b[39;00m\n",
      "\u001b[36mFile \u001b[39m\u001b[32m~/Documents/DataScience/lab4/.venv/lib/python3.13/site-packages/urllib3/response.py:784\u001b[39m, in \u001b[36mHTTPResponse._error_catcher\u001b[39m\u001b[34m(self)\u001b[39m\n\u001b[32m    781\u001b[39m \u001b[38;5;28;01mexcept\u001b[39;00m SocketTimeout \u001b[38;5;28;01mas\u001b[39;00m e:\n\u001b[32m    782\u001b[39m     \u001b[38;5;66;03m# FIXME: Ideally we'd like to include the url in the ReadTimeoutError but\u001b[39;00m\n\u001b[32m    783\u001b[39m     \u001b[38;5;66;03m# there is yet no clean way to get at it from this context.\u001b[39;00m\n\u001b[32m--> \u001b[39m\u001b[32m784\u001b[39m     \u001b[38;5;28;01mraise\u001b[39;00m ReadTimeoutError(\u001b[38;5;28mself\u001b[39m._pool, \u001b[38;5;28;01mNone\u001b[39;00m, \u001b[33m\"\u001b[39m\u001b[33mRead timed out.\u001b[39m\u001b[33m\"\u001b[39m) \u001b[38;5;28;01mfrom\u001b[39;00m\u001b[38;5;250m \u001b[39m\u001b[34;01me\u001b[39;00m  \u001b[38;5;66;03m# type: ignore[arg-type]\u001b[39;00m\n\u001b[32m    786\u001b[39m \u001b[38;5;28;01mexcept\u001b[39;00m BaseSSLError \u001b[38;5;28;01mas\u001b[39;00m e:\n\u001b[32m    787\u001b[39m     \u001b[38;5;66;03m# FIXME: Is there a better way to differentiate between SSLErrors?\u001b[39;00m\n",
      "\u001b[31mReadTimeoutError\u001b[39m: HTTPSConnectionPool(host='openeo.dataspace.copernicus.eu', port=443): Read timed out.",
      "\nDuring handling of the above exception, another exception occurred:\n",
      "\u001b[31mConnectionError\u001b[39m                           Traceback (most recent call last)",
      "\u001b[36mCell\u001b[39m\u001b[36m \u001b[39m\u001b[32mIn[54]\u001b[39m\u001b[32m, line 2\u001b[39m\n\u001b[32m      1\u001b[39m hello = openeo.BatchJob(\u001b[33m'\u001b[39m\u001b[33mj-2508091807374458b5b5f12f2a0217f4\u001b[39m\u001b[33m'\u001b[39m, connection)\n\u001b[32m----> \u001b[39m\u001b[32m2\u001b[39m \u001b[43mhello\u001b[49m\u001b[43m.\u001b[49m\u001b[43mget_results\u001b[49m\u001b[43m(\u001b[49m\u001b[43m)\u001b[49m\u001b[43m.\u001b[49m\u001b[43mdownload_files\u001b[49m\u001b[43m(\u001b[49m\u001b[33;43m'\u001b[39;49m\u001b[33;43m./data/Atitlan\u001b[39;49m\u001b[33;43m'\u001b[39;49m\u001b[43m)\u001b[49m\n",
      "\u001b[36mFile \u001b[39m\u001b[32m~/Documents/DataScience/lab4/.venv/lib/python3.13/site-packages/openeo/rest/job.py:602\u001b[39m, in \u001b[36mJobResults.download_files\u001b[39m\u001b[34m(self, target, include_stac_metadata, chunk_size)\u001b[39m\n\u001b[32m    599\u001b[39m     \u001b[38;5;28;01mraise\u001b[39;00m OpenEoClientException(\u001b[33mf\u001b[39m\u001b[33m\"\u001b[39m\u001b[33mTarget argument \u001b[39m\u001b[38;5;132;01m{\u001b[39;00mtarget\u001b[38;5;132;01m}\u001b[39;00m\u001b[33m exists but isn\u001b[39m\u001b[33m'\u001b[39m\u001b[33mt a folder.\u001b[39m\u001b[33m\"\u001b[39m)\n\u001b[32m    600\u001b[39m ensure_dir(target)\n\u001b[32m--> \u001b[39m\u001b[32m602\u001b[39m downloaded = [\u001b[43ma\u001b[49m\u001b[43m.\u001b[49m\u001b[43mdownload\u001b[49m\u001b[43m(\u001b[49m\u001b[43mtarget\u001b[49m\u001b[43m,\u001b[49m\u001b[43m \u001b[49m\u001b[43mchunk_size\u001b[49m\u001b[43m=\u001b[49m\u001b[43mchunk_size\u001b[49m\u001b[43m)\u001b[49m \u001b[38;5;28;01mfor\u001b[39;00m a \u001b[38;5;129;01min\u001b[39;00m \u001b[38;5;28mself\u001b[39m.get_assets()]\n\u001b[32m    604\u001b[39m \u001b[38;5;28;01mif\u001b[39;00m include_stac_metadata:\n\u001b[32m    605\u001b[39m     \u001b[38;5;66;03m# TODO #184: convention for metadata file name?\u001b[39;00m\n\u001b[32m    606\u001b[39m     metadata_file = target / DEFAULT_JOB_RESULTS_FILENAME\n",
      "\u001b[36mFile \u001b[39m\u001b[32m~/Documents/DataScience/lab4/.venv/lib/python3.13/site-packages/openeo/rest/job.py:437\u001b[39m, in \u001b[36mResultAsset.download\u001b[39m\u001b[34m(self, target, chunk_size, range_size)\u001b[39m\n\u001b[32m    435\u001b[39m ensure_dir(target.parent)\n\u001b[32m    436\u001b[39m logger.info(\u001b[33m\"\u001b[39m\u001b[33mDownloading Job result asset \u001b[39m\u001b[38;5;132;01m{n!r}\u001b[39;00m\u001b[33m from \u001b[39m\u001b[38;5;132;01m{h!s}\u001b[39;00m\u001b[33m to \u001b[39m\u001b[38;5;132;01m{t!s}\u001b[39;00m\u001b[33m\"\u001b[39m.format(n=\u001b[38;5;28mself\u001b[39m.name, h=\u001b[38;5;28mself\u001b[39m.href, t=target))\n\u001b[32m--> \u001b[39m\u001b[32m437\u001b[39m \u001b[38;5;28;43mself\u001b[39;49m\u001b[43m.\u001b[49m\u001b[43m_download_to_file\u001b[49m\u001b[43m(\u001b[49m\u001b[43murl\u001b[49m\u001b[43m=\u001b[49m\u001b[38;5;28;43mself\u001b[39;49m\u001b[43m.\u001b[49m\u001b[43mhref\u001b[49m\u001b[43m,\u001b[49m\u001b[43m \u001b[49m\u001b[43mtarget\u001b[49m\u001b[43m=\u001b[49m\u001b[43mtarget\u001b[49m\u001b[43m,\u001b[49m\u001b[43m \u001b[49m\u001b[43mchunk_size\u001b[49m\u001b[43m=\u001b[49m\u001b[43mchunk_size\u001b[49m\u001b[43m,\u001b[49m\u001b[43m \u001b[49m\u001b[43mrange_size\u001b[49m\u001b[43m=\u001b[49m\u001b[43mrange_size\u001b[49m\u001b[43m)\u001b[49m\n\u001b[32m    438\u001b[39m \u001b[38;5;28;01mreturn\u001b[39;00m target\n",
      "\u001b[36mFile \u001b[39m\u001b[32m~/Documents/DataScience/lab4/.venv/lib/python3.13/site-packages/openeo/rest/job.py:460\u001b[39m, in \u001b[36mResultAsset._download_to_file\u001b[39m\u001b[34m(self, url, target, chunk_size, range_size)\u001b[39m\n\u001b[32m    458\u001b[39m \u001b[38;5;28;01mif\u001b[39;00m head.ok \u001b[38;5;129;01mand\u001b[39;00m head.headers.get(\u001b[33m\"\u001b[39m\u001b[33mAccept-Ranges\u001b[39m\u001b[33m\"\u001b[39m) == \u001b[33m\"\u001b[39m\u001b[33mbytes\u001b[39m\u001b[33m\"\u001b[39m \u001b[38;5;129;01mand\u001b[39;00m \u001b[33m'\u001b[39m\u001b[33mContent-Length\u001b[39m\u001b[33m'\u001b[39m \u001b[38;5;129;01min\u001b[39;00m head.headers:\n\u001b[32m    459\u001b[39m     file_size = \u001b[38;5;28mint\u001b[39m(head.headers[\u001b[33m'\u001b[39m\u001b[33mContent-Length\u001b[39m\u001b[33m'\u001b[39m])\n\u001b[32m--> \u001b[39m\u001b[32m460\u001b[39m     \u001b[38;5;28;43mself\u001b[39;49m\u001b[43m.\u001b[49m\u001b[43m_download_ranged\u001b[49m\u001b[43m(\u001b[49m\u001b[43murl\u001b[49m\u001b[43m=\u001b[49m\u001b[43murl\u001b[49m\u001b[43m,\u001b[49m\u001b[43m \u001b[49m\u001b[43mtarget\u001b[49m\u001b[43m=\u001b[49m\u001b[43mtarget\u001b[49m\u001b[43m,\u001b[49m\u001b[43m \u001b[49m\u001b[43mfile_size\u001b[49m\u001b[43m=\u001b[49m\u001b[43mfile_size\u001b[49m\u001b[43m,\u001b[49m\u001b[43m \u001b[49m\u001b[43mchunk_size\u001b[49m\u001b[43m=\u001b[49m\u001b[43mchunk_size\u001b[49m\u001b[43m,\u001b[49m\u001b[43m \u001b[49m\u001b[43mrange_size\u001b[49m\u001b[43m=\u001b[49m\u001b[43mrange_size\u001b[49m\u001b[43m)\u001b[49m\n\u001b[32m    461\u001b[39m \u001b[38;5;28;01melse\u001b[39;00m:\n\u001b[32m    462\u001b[39m     \u001b[38;5;28mself\u001b[39m._download_all_at_once(url=url, target=target, chunk_size=chunk_size)\n",
      "\u001b[36mFile \u001b[39m\u001b[32m~/Documents/DataScience/lab4/.venv/lib/python3.13/site-packages/openeo/rest/job.py:475\u001b[39m, in \u001b[36mResultAsset._download_ranged\u001b[39m\u001b[34m(self, url, target, file_size, chunk_size, range_size)\u001b[39m\n\u001b[32m    473\u001b[39m \u001b[38;5;28;01mwith\u001b[39;00m \u001b[38;5;28mself\u001b[39m.job.connection.get(path=url, headers=range_headers, stream=\u001b[38;5;28;01mTrue\u001b[39;00m) \u001b[38;5;28;01mas\u001b[39;00m r:\n\u001b[32m    474\u001b[39m     r.raise_for_status()\n\u001b[32m--> \u001b[39m\u001b[32m475\u001b[39m \u001b[43m    \u001b[49m\u001b[38;5;28;43;01mfor\u001b[39;49;00m\u001b[43m \u001b[49m\u001b[43mblock\u001b[49m\u001b[43m \u001b[49m\u001b[38;5;129;43;01min\u001b[39;49;00m\u001b[43m \u001b[49m\u001b[43mr\u001b[49m\u001b[43m.\u001b[49m\u001b[43miter_content\u001b[49m\u001b[43m(\u001b[49m\u001b[43mchunk_size\u001b[49m\u001b[43m=\u001b[49m\u001b[43mchunk_size\u001b[49m\u001b[43m)\u001b[49m\u001b[43m:\u001b[49m\n\u001b[32m    476\u001b[39m \u001b[43m        \u001b[49m\u001b[43mf\u001b[49m\u001b[43m.\u001b[49m\u001b[43mwrite\u001b[49m\u001b[43m(\u001b[49m\u001b[43mblock\u001b[49m\u001b[43m)\u001b[49m\n\u001b[32m    477\u001b[39m \u001b[38;5;28;01mbreak\u001b[39;00m\n",
      "\u001b[36mFile \u001b[39m\u001b[32m~/Documents/DataScience/lab4/.venv/lib/python3.13/site-packages/requests/models.py:826\u001b[39m, in \u001b[36mResponse.iter_content.<locals>.generate\u001b[39m\u001b[34m()\u001b[39m\n\u001b[32m    824\u001b[39m     \u001b[38;5;28;01mraise\u001b[39;00m ContentDecodingError(e)\n\u001b[32m    825\u001b[39m \u001b[38;5;28;01mexcept\u001b[39;00m ReadTimeoutError \u001b[38;5;28;01mas\u001b[39;00m e:\n\u001b[32m--> \u001b[39m\u001b[32m826\u001b[39m     \u001b[38;5;28;01mraise\u001b[39;00m \u001b[38;5;167;01mConnectionError\u001b[39;00m(e)\n\u001b[32m    827\u001b[39m \u001b[38;5;28;01mexcept\u001b[39;00m SSLError \u001b[38;5;28;01mas\u001b[39;00m e:\n\u001b[32m    828\u001b[39m     \u001b[38;5;28;01mraise\u001b[39;00m RequestsSSLError(e)\n",
      "\u001b[31mConnectionError\u001b[39m: HTTPSConnectionPool(host='openeo.dataspace.copernicus.eu', port=443): Read timed out."
     ]
    }
   ],
   "source": [
    "hello = openeo.BatchJob('j-2508091807374458b5b5f12f2a0217f4', connection)\n",
    "hello.get_results().download_files('./data/Atitlan')"
   ]
  }
 ],
 "metadata": {
  "kernelspec": {
   "display_name": ".venv",
   "language": "python",
   "name": "python3"
  },
  "language_info": {
   "codemirror_mode": {
    "name": "ipython",
    "version": 3
   },
   "file_extension": ".py",
   "mimetype": "text/x-python",
   "name": "python",
   "nbconvert_exporter": "python",
   "pygments_lexer": "ipython3",
   "version": "3.13.5"
  }
 },
 "nbformat": 4,
 "nbformat_minor": 5
}
